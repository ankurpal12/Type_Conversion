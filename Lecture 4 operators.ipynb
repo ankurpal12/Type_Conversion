{
 "cells": [
  {
   "cell_type": "code",
   "execution_count": 2,
   "id": "0945336e-6c08-4ff4-bbaf-737b37874421",
   "metadata": {},
   "outputs": [
    {
     "data": {
      "text/plain": [
       "6"
      ]
     },
     "execution_count": 2,
     "metadata": {},
     "output_type": "execute_result"
    }
   ],
   "source": [
    "2+4"
   ]
  },
  {
   "cell_type": "code",
   "execution_count": 3,
   "id": "27de9671-62ec-47b3-ba90-97650e9042b3",
   "metadata": {},
   "outputs": [],
   "source": [
    "add = 3+4"
   ]
  },
  {
   "cell_type": "code",
   "execution_count": 4,
   "id": "5188748e-382d-4d90-93eb-2b4e58871b18",
   "metadata": {},
   "outputs": [
    {
     "data": {
      "text/plain": [
       "7"
      ]
     },
     "execution_count": 4,
     "metadata": {},
     "output_type": "execute_result"
    }
   ],
   "source": [
    "add"
   ]
  },
  {
   "cell_type": "code",
   "execution_count": 5,
   "id": "2b74e0f8-5ae8-4acf-8712-5dcfa7d5939c",
   "metadata": {},
   "outputs": [
    {
     "data": {
      "text/plain": [
       "20"
      ]
     },
     "execution_count": 5,
     "metadata": {},
     "output_type": "execute_result"
    }
   ],
   "source": [
    "4*5"
   ]
  },
  {
   "cell_type": "code",
   "execution_count": 6,
   "id": "4a43c3b4-c668-443e-8274-26a5b7a343c9",
   "metadata": {},
   "outputs": [
    {
     "data": {
      "text/plain": [
       "6.0"
      ]
     },
     "execution_count": 6,
     "metadata": {},
     "output_type": "execute_result"
    }
   ],
   "source": [
    "30/5"
   ]
  },
  {
   "cell_type": "code",
   "execution_count": 7,
   "id": "5be618ef-4c8b-4d15-88e8-51bb08bceb86",
   "metadata": {},
   "outputs": [
    {
     "data": {
      "text/plain": [
       "0.5"
      ]
     },
     "execution_count": 7,
     "metadata": {},
     "output_type": "execute_result"
    }
   ],
   "source": [
    "1/2"
   ]
  },
  {
   "cell_type": "code",
   "execution_count": 8,
   "id": "c42992f7-f7df-473b-a9f3-cdd49c9571db",
   "metadata": {},
   "outputs": [
    {
     "data": {
      "text/plain": [
       "32"
      ]
     },
     "execution_count": 8,
     "metadata": {},
     "output_type": "execute_result"
    }
   ],
   "source": [
    "2**5"
   ]
  },
  {
   "cell_type": "code",
   "execution_count": 9,
   "id": "9589ed13-7c71-4b06-835d-42d6208bf093",
   "metadata": {},
   "outputs": [
    {
     "data": {
      "text/plain": [
       "27"
      ]
     },
     "execution_count": 9,
     "metadata": {},
     "output_type": "execute_result"
    }
   ],
   "source": [
    "3**3"
   ]
  },
  {
   "cell_type": "code",
   "execution_count": 10,
   "id": "5b9137fc-c43e-4f3b-8d9d-32e491c532ac",
   "metadata": {},
   "outputs": [
    {
     "data": {
      "text/plain": [
       "0.3333333333333333"
      ]
     },
     "execution_count": 10,
     "metadata": {},
     "output_type": "execute_result"
    }
   ],
   "source": [
    "2/6"
   ]
  },
  {
   "cell_type": "code",
   "execution_count": 11,
   "id": "0cce198d-1a77-4be9-b59b-70d00b6c4e4b",
   "metadata": {},
   "outputs": [
    {
     "data": {
      "text/plain": [
       "0"
      ]
     },
     "execution_count": 11,
     "metadata": {},
     "output_type": "execute_result"
    }
   ],
   "source": [
    "2//6"
   ]
  },
  {
   "cell_type": "code",
   "execution_count": 12,
   "id": "719360a7-3ef8-4082-a25c-52f1675bcd06",
   "metadata": {},
   "outputs": [
    {
     "data": {
      "text/plain": [
       "True"
      ]
     },
     "execution_count": 12,
     "metadata": {},
     "output_type": "execute_result"
    }
   ],
   "source": [
    "2==2"
   ]
  },
  {
   "cell_type": "code",
   "execution_count": 13,
   "id": "77cbe99a-6589-4d30-896b-cdcd14b9398e",
   "metadata": {},
   "outputs": [
    {
     "data": {
      "text/plain": [
       "True"
      ]
     },
     "execution_count": 13,
     "metadata": {},
     "output_type": "execute_result"
    }
   ],
   "source": [
    "2!=5"
   ]
  },
  {
   "cell_type": "code",
   "execution_count": 14,
   "id": "4cc763ad-0b94-48b2-b5d5-27af418079e3",
   "metadata": {},
   "outputs": [
    {
     "data": {
      "text/plain": [
       "True"
      ]
     },
     "execution_count": 14,
     "metadata": {},
     "output_type": "execute_result"
    }
   ],
   "source": [
    "2!=5"
   ]
  },
  {
   "cell_type": "code",
   "execution_count": 16,
   "id": "0d5f9842-f5f4-439d-9dda-d040e2d5dc9a",
   "metadata": {},
   "outputs": [
    {
     "data": {
      "text/plain": [
       "False"
      ]
     },
     "execution_count": 16,
     "metadata": {},
     "output_type": "execute_result"
    }
   ],
   "source": [
    "3!=3"
   ]
  },
  {
   "cell_type": "code",
   "execution_count": 17,
   "id": "d439a4d1-4907-45f0-9ea6-b16958e93951",
   "metadata": {},
   "outputs": [
    {
     "data": {
      "text/plain": [
       "False"
      ]
     },
     "execution_count": 17,
     "metadata": {},
     "output_type": "execute_result"
    }
   ],
   "source": [
    "4!=4"
   ]
  },
  {
   "cell_type": "code",
   "execution_count": 18,
   "id": "3c8994d3-2ae2-4714-a192-6db1c7b82faf",
   "metadata": {},
   "outputs": [
    {
     "data": {
      "text/plain": [
       "True"
      ]
     },
     "execution_count": 18,
     "metadata": {},
     "output_type": "execute_result"
    }
   ],
   "source": [
    "6!=3"
   ]
  },
  {
   "cell_type": "code",
   "execution_count": 19,
   "id": "cafbe803-b600-4c6a-beda-e95915f96469",
   "metadata": {},
   "outputs": [
    {
     "data": {
      "text/plain": [
       "False"
      ]
     },
     "execution_count": 19,
     "metadata": {},
     "output_type": "execute_result"
    }
   ],
   "source": [
    "6<=4"
   ]
  },
  {
   "cell_type": "code",
   "execution_count": 20,
   "id": "73bde2d8-b94b-4591-97b6-6b59b968eb19",
   "metadata": {},
   "outputs": [
    {
     "data": {
      "text/plain": [
       "True"
      ]
     },
     "execution_count": 20,
     "metadata": {},
     "output_type": "execute_result"
    }
   ],
   "source": [
    "9>=7"
   ]
  },
  {
   "cell_type": "code",
   "execution_count": 21,
   "id": "540e8a58-f2f9-4749-88f5-c00c4f929610",
   "metadata": {},
   "outputs": [
    {
     "data": {
      "text/plain": [
       "False"
      ]
     },
     "execution_count": 21,
     "metadata": {},
     "output_type": "execute_result"
    }
   ],
   "source": [
    "5<1"
   ]
  },
  {
   "cell_type": "code",
   "execution_count": 22,
   "id": "f0aa5a3e-a384-42dd-b59d-0895adfd296a",
   "metadata": {},
   "outputs": [
    {
     "data": {
      "text/plain": [
       "True"
      ]
     },
     "execution_count": 22,
     "metadata": {},
     "output_type": "execute_result"
    }
   ],
   "source": [
    "6>2"
   ]
  },
  {
   "cell_type": "code",
   "execution_count": 1,
   "id": "05e4000c-54ee-4d00-b464-63f9717aea7d",
   "metadata": {},
   "outputs": [
    {
     "data": {
      "text/plain": [
       "False"
      ]
     },
     "execution_count": 1,
     "metadata": {},
     "output_type": "execute_result"
    }
   ],
   "source": [
    "False and True"
   ]
  },
  {
   "cell_type": "code",
   "execution_count": 2,
   "id": "a614a5b4-29eb-407a-81d0-07ee99708085",
   "metadata": {},
   "outputs": [
    {
     "data": {
      "text/plain": [
       "True"
      ]
     },
     "execution_count": 2,
     "metadata": {},
     "output_type": "execute_result"
    }
   ],
   "source": [
    "True and True"
   ]
  },
  {
   "cell_type": "code",
   "execution_count": 3,
   "id": "e6248b1f-c793-439e-8087-e894ee66d5b3",
   "metadata": {},
   "outputs": [
    {
     "data": {
      "text/plain": [
       "False"
      ]
     },
     "execution_count": 3,
     "metadata": {},
     "output_type": "execute_result"
    }
   ],
   "source": [
    "False and False"
   ]
  },
  {
   "cell_type": "code",
   "execution_count": 4,
   "id": "12be96e5-0948-4817-b6a4-2633396f7f5d",
   "metadata": {},
   "outputs": [
    {
     "data": {
      "text/plain": [
       "False"
      ]
     },
     "execution_count": 4,
     "metadata": {},
     "output_type": "execute_result"
    }
   ],
   "source": [
    "False or False"
   ]
  },
  {
   "cell_type": "code",
   "execution_count": 5,
   "id": "db512a59-7da7-442c-99b3-9fb3544efa85",
   "metadata": {},
   "outputs": [
    {
     "data": {
      "text/plain": [
       "True"
      ]
     },
     "execution_count": 5,
     "metadata": {},
     "output_type": "execute_result"
    }
   ],
   "source": [
    "True or True"
   ]
  },
  {
   "cell_type": "code",
   "execution_count": 6,
   "id": "c3ef7608-b089-40d0-b4c0-08a2f6106855",
   "metadata": {},
   "outputs": [
    {
     "data": {
      "text/plain": [
       "True"
      ]
     },
     "execution_count": 6,
     "metadata": {},
     "output_type": "execute_result"
    }
   ],
   "source": [
    "True or False"
   ]
  },
  {
   "cell_type": "code",
   "execution_count": 7,
   "id": "db832e30-f43a-44c0-b1fa-b345251bfe97",
   "metadata": {},
   "outputs": [
    {
     "data": {
      "text/plain": [
       "True"
      ]
     },
     "execution_count": 7,
     "metadata": {},
     "output_type": "execute_result"
    }
   ],
   "source": [
    "not False"
   ]
  },
  {
   "cell_type": "code",
   "execution_count": 8,
   "id": "b15f47c9-a23a-400d-95e6-139312201ce8",
   "metadata": {},
   "outputs": [
    {
     "data": {
      "text/plain": [
       "False"
      ]
     },
     "execution_count": 8,
     "metadata": {},
     "output_type": "execute_result"
    }
   ],
   "source": [
    "not True"
   ]
  },
  {
   "cell_type": "code",
   "execution_count": 9,
   "id": "f787fede-767e-42d9-9274-6b0753194571",
   "metadata": {},
   "outputs": [],
   "source": [
    "c=6"
   ]
  },
  {
   "cell_type": "code",
   "execution_count": 10,
   "id": "36d15035-7fa1-45e2-a8f8-e219bb32df79",
   "metadata": {},
   "outputs": [
    {
     "data": {
      "text/plain": [
       "6"
      ]
     },
     "execution_count": 10,
     "metadata": {},
     "output_type": "execute_result"
    }
   ],
   "source": [
    "c"
   ]
  },
  {
   "cell_type": "code",
   "execution_count": 11,
   "id": "e1f19104-a66c-4359-843a-29b1bc36a115",
   "metadata": {},
   "outputs": [
    {
     "data": {
      "text/plain": [
       "12"
      ]
     },
     "execution_count": 11,
     "metadata": {},
     "output_type": "execute_result"
    }
   ],
   "source": [
    "c+6"
   ]
  },
  {
   "cell_type": "code",
   "execution_count": 12,
   "id": "20462081-e48f-4238-bc40-5a2e2680f9a3",
   "metadata": {},
   "outputs": [],
   "source": [
    "c+=6"
   ]
  },
  {
   "cell_type": "code",
   "execution_count": 13,
   "id": "631dbc15-681a-4b22-8fee-f73146333ca2",
   "metadata": {},
   "outputs": [
    {
     "data": {
      "text/plain": [
       "12"
      ]
     },
     "execution_count": 13,
     "metadata": {},
     "output_type": "execute_result"
    }
   ],
   "source": [
    "c"
   ]
  },
  {
   "cell_type": "code",
   "execution_count": 14,
   "id": "5617c8af-fdde-44ba-863a-6c3b7fe14932",
   "metadata": {},
   "outputs": [],
   "source": [
    "c *=7"
   ]
  },
  {
   "cell_type": "code",
   "execution_count": 15,
   "id": "e0dd8974-609a-4904-882c-121febc6d5e3",
   "metadata": {},
   "outputs": [
    {
     "data": {
      "text/plain": [
       "84"
      ]
     },
     "execution_count": 15,
     "metadata": {},
     "output_type": "execute_result"
    }
   ],
   "source": [
    "c"
   ]
  },
  {
   "cell_type": "code",
   "execution_count": 2,
   "id": "ccf4f0f3-d75c-4400-a4c5-0f4a03a24bd6",
   "metadata": {},
   "outputs": [],
   "source": [
    "c = 9"
   ]
  },
  {
   "cell_type": "code",
   "execution_count": 3,
   "id": "19cf74e8-850b-4c56-af42-e1d1dbe24d31",
   "metadata": {},
   "outputs": [],
   "source": [
    "c/=6"
   ]
  },
  {
   "cell_type": "code",
   "execution_count": 4,
   "id": "641b46d4-4c64-48a9-af99-1093d47b6d1b",
   "metadata": {},
   "outputs": [
    {
     "data": {
      "text/plain": [
       "1.5"
      ]
     },
     "execution_count": 4,
     "metadata": {},
     "output_type": "execute_result"
    }
   ],
   "source": [
    "c"
   ]
  },
  {
   "cell_type": "code",
   "execution_count": 5,
   "id": "5da99a21-87ee-4830-8a42-d235768499e9",
   "metadata": {},
   "outputs": [],
   "source": [
    "#Assignment Operator\n",
    "a = (\" This is my Car\")"
   ]
  },
  {
   "cell_type": "code",
   "execution_count": 9,
   "id": "4e6c2071-f6dd-405b-84f7-3fe3f5dfdcd6",
   "metadata": {},
   "outputs": [
    {
     "data": {
      "text/plain": [
       "True"
      ]
     },
     "execution_count": 9,
     "metadata": {},
     "output_type": "execute_result"
    }
   ],
   "source": [
    "\"This\" in a"
   ]
  },
  {
   "cell_type": "code",
   "execution_count": 10,
   "id": "41a588e2-251d-49cc-b6ed-cb7a22f97503",
   "metadata": {},
   "outputs": [
    {
     "data": {
      "text/plain": [
       "True"
      ]
     },
     "execution_count": 10,
     "metadata": {},
     "output_type": "execute_result"
    }
   ],
   "source": [
    "\"i\" in a"
   ]
  },
  {
   "cell_type": "code",
   "execution_count": 11,
   "id": "d9b1281f-8a92-4f40-9665-961819b0c372",
   "metadata": {},
   "outputs": [
    {
     "data": {
      "text/plain": [
       "True"
      ]
     },
     "execution_count": 11,
     "metadata": {},
     "output_type": "execute_result"
    }
   ],
   "source": [
    "\"is\" in a"
   ]
  },
  {
   "cell_type": "code",
   "execution_count": 12,
   "id": "51348c69-4136-4160-919e-569c3d0e61dd",
   "metadata": {},
   "outputs": [
    {
     "data": {
      "text/plain": [
       "False"
      ]
     },
     "execution_count": 12,
     "metadata": {},
     "output_type": "execute_result"
    }
   ],
   "source": [
    "\"Hello\" in a"
   ]
  },
  {
   "cell_type": "code",
   "execution_count": null,
   "id": "5eadeaf0-b4ce-4038-ad2a-097fe20ff8c9",
   "metadata": {},
   "outputs": [],
   "source": [
    "#identity operator-> compare the memory loactaion of two object"
   ]
  },
  {
   "cell_type": "code",
   "execution_count": null,
   "id": "94d65271-7c18-4c8b-a569-12fc62a2af7a",
   "metadata": {},
   "outputs": [],
   "source": [
    "a = \"system\"\n",
    "f = a"
   ]
  },
  {
   "cell_type": "code",
   "execution_count": 5,
   "id": "f24b129c-5c46-4a54-ad23-bb19ed6877b8",
   "metadata": {},
   "outputs": [
    {
     "data": {
      "text/plain": [
       "'system'"
      ]
     },
     "execution_count": 5,
     "metadata": {},
     "output_type": "execute_result"
    }
   ],
   "source": [
    "f"
   ]
  },
  {
   "cell_type": "code",
   "execution_count": 6,
   "id": "29cc519e-af6e-49f8-a251-2ff67df31505",
   "metadata": {},
   "outputs": [
    {
     "data": {
      "text/plain": [
       "'system'"
      ]
     },
     "execution_count": 6,
     "metadata": {},
     "output_type": "execute_result"
    }
   ],
   "source": [
    "a"
   ]
  },
  {
   "cell_type": "code",
   "execution_count": 7,
   "id": "04cd81f3-cf28-4275-9540-ffe8af168306",
   "metadata": {},
   "outputs": [
    {
     "data": {
      "text/plain": [
       "True"
      ]
     },
     "execution_count": 7,
     "metadata": {},
     "output_type": "execute_result"
    }
   ],
   "source": [
    "f is a"
   ]
  },
  {
   "cell_type": "code",
   "execution_count": 8,
   "id": "78b64c0c-2230-4d50-ae2e-1e8e1b947ce3",
   "metadata": {},
   "outputs": [
    {
     "data": {
      "text/plain": [
       "True"
      ]
     },
     "execution_count": 8,
     "metadata": {},
     "output_type": "execute_result"
    }
   ],
   "source": [
    "a is f"
   ]
  },
  {
   "cell_type": "code",
   "execution_count": 10,
   "id": "b3eb5d05-99b5-4421-864d-ffaf5b39274c",
   "metadata": {},
   "outputs": [
    {
     "data": {
      "text/plain": [
       "False"
      ]
     },
     "execution_count": 10,
     "metadata": {},
     "output_type": "execute_result"
    }
   ],
   "source": [
    "a = \"system\"\n",
    "b = \"data\"\n",
    "a is b"
   ]
  },
  {
   "cell_type": "code",
   "execution_count": 11,
   "id": "b64198d7-8b53-4671-bd0c-7dd2bf200c2c",
   "metadata": {},
   "outputs": [
    {
     "data": {
      "text/plain": [
       "True"
      ]
     },
     "execution_count": 11,
     "metadata": {},
     "output_type": "execute_result"
    }
   ],
   "source": [
    "a is not b"
   ]
  },
  {
   "cell_type": "code",
   "execution_count": 1,
   "id": "a977e3d2-cd31-4aca-8fd3-d7d3adfb8e10",
   "metadata": {},
   "outputs": [
    {
     "data": {
      "text/plain": [
       "14"
      ]
     },
     "execution_count": 1,
     "metadata": {},
     "output_type": "execute_result"
    }
   ],
   "source": [
    "6 ^ 8\n"
   ]
  },
  {
   "cell_type": "code",
   "execution_count": 2,
   "id": "e735bda9-29f4-40aa-af3b-d3ea3b8cf5f5",
   "metadata": {},
   "outputs": [
    {
     "data": {
      "text/plain": [
       "'0b110'"
      ]
     },
     "execution_count": 2,
     "metadata": {},
     "output_type": "execute_result"
    }
   ],
   "source": [
    "bin(6)"
   ]
  },
  {
   "cell_type": "code",
   "execution_count": 3,
   "id": "6ebe4451-87d1-4e70-b475-330738c76f70",
   "metadata": {},
   "outputs": [
    {
     "data": {
      "text/plain": [
       "'0b1000'"
      ]
     },
     "execution_count": 3,
     "metadata": {},
     "output_type": "execute_result"
    }
   ],
   "source": [
    "bin(8)"
   ]
  },
  {
   "cell_type": "code",
   "execution_count": 4,
   "id": "3e39be65-213b-4940-aabe-788552ba6a3b",
   "metadata": {},
   "outputs": [
    {
     "data": {
      "text/plain": [
       "'0b1110'"
      ]
     },
     "execution_count": 4,
     "metadata": {},
     "output_type": "execute_result"
    }
   ],
   "source": [
    "bin(14)"
   ]
  },
  {
   "cell_type": "code",
   "execution_count": 5,
   "id": "e3fcf06d-e0c3-4bf3-978a-8e9ef201973d",
   "metadata": {},
   "outputs": [
    {
     "data": {
      "text/plain": [
       "1"
      ]
     },
     "execution_count": 5,
     "metadata": {},
     "output_type": "execute_result"
    }
   ],
   "source": [
    "8>>3"
   ]
  },
  {
   "cell_type": "code",
   "execution_count": 6,
   "id": "3230e6b8-14aa-452d-8371-9105b86263e5",
   "metadata": {},
   "outputs": [
    {
     "data": {
      "text/plain": [
       "'0b1000'"
      ]
     },
     "execution_count": 6,
     "metadata": {},
     "output_type": "execute_result"
    }
   ],
   "source": [
    "bin(8)"
   ]
  },
  {
   "cell_type": "code",
   "execution_count": 7,
   "id": "50501e21-1473-4981-97bb-f10b635ae1ce",
   "metadata": {},
   "outputs": [
    {
     "data": {
      "text/plain": [
       "'0b11'"
      ]
     },
     "execution_count": 7,
     "metadata": {},
     "output_type": "execute_result"
    }
   ],
   "source": [
    "bin(3)"
   ]
  },
  {
   "cell_type": "code",
   "execution_count": null,
   "id": "b6dcf1a9-ceee-4f03-8432-0368e7c45425",
   "metadata": {},
   "outputs": [],
   "source": []
  }
 ],
 "metadata": {
  "kernelspec": {
   "display_name": "Python 3 (ipykernel)",
   "language": "python",
   "name": "python3"
  },
  "language_info": {
   "codemirror_mode": {
    "name": "ipython",
    "version": 3
   },
   "file_extension": ".py",
   "mimetype": "text/x-python",
   "name": "python",
   "nbconvert_exporter": "python",
   "pygments_lexer": "ipython3",
   "version": "3.10.8"
  }
 },
 "nbformat": 4,
 "nbformat_minor": 5
}
