{
 "cells": [
  {
   "cell_type": "code",
   "execution_count": 3,
   "id": "7fb89cb8-3f87-4dce-8d4e-63c4952ff5b7",
   "metadata": {},
   "outputs": [],
   "source": [
    "b = \"System\""
   ]
  },
  {
   "cell_type": "code",
   "execution_count": 4,
   "id": "5d32c4a4-5186-4131-84e2-1eceb79069ae",
   "metadata": {},
   "outputs": [
    {
     "data": {
      "text/plain": [
       "'System'"
      ]
     },
     "execution_count": 4,
     "metadata": {},
     "output_type": "execute_result"
    }
   ],
   "source": [
    "b"
   ]
  },
  {
   "cell_type": "code",
   "execution_count": 5,
   "id": "597ca50c-8e9b-4a98-9fe1-e6123ebcc405",
   "metadata": {},
   "outputs": [
    {
     "data": {
      "text/plain": [
       "'s'"
      ]
     },
     "execution_count": 5,
     "metadata": {},
     "output_type": "execute_result"
    }
   ],
   "source": [
    "b[2]"
   ]
  },
  {
   "cell_type": "code",
   "execution_count": 6,
   "id": "fff0cdda-d81d-47ff-a674-c0e401d112ed",
   "metadata": {},
   "outputs": [
    {
     "data": {
      "text/plain": [
       "'e'"
      ]
     },
     "execution_count": 6,
     "metadata": {},
     "output_type": "execute_result"
    }
   ],
   "source": [
    "b[-2]"
   ]
  },
  {
   "cell_type": "code",
   "execution_count": 7,
   "id": "365c7230-79de-44ec-bdac-40b86d8eb3e2",
   "metadata": {},
   "outputs": [
    {
     "data": {
      "text/plain": [
       "'s'"
      ]
     },
     "execution_count": 7,
     "metadata": {},
     "output_type": "execute_result"
    }
   ],
   "source": [
    "b[-4]"
   ]
  },
  {
   "cell_type": "code",
   "execution_count": 9,
   "id": "3fc41517-1a14-4233-873d-00ba4acbc231",
   "metadata": {},
   "outputs": [],
   "source": [
    "list_cont = [ 1, 2, 3, \"System\", 3+6j]"
   ]
  },
  {
   "cell_type": "code",
   "execution_count": 10,
   "id": "f835abf4-520c-421c-a571-dc45934ce82e",
   "metadata": {},
   "outputs": [
    {
     "data": {
      "text/plain": [
       "list"
      ]
     },
     "execution_count": 10,
     "metadata": {},
     "output_type": "execute_result"
    }
   ],
   "source": [
    "type(list_cont)"
   ]
  },
  {
   "cell_type": "code",
   "execution_count": 11,
   "id": "73fc2cca-e520-4fed-948a-8e236fe6104b",
   "metadata": {},
   "outputs": [
    {
     "data": {
      "text/plain": [
       "'System'"
      ]
     },
     "execution_count": 11,
     "metadata": {},
     "output_type": "execute_result"
    }
   ],
   "source": [
    "list_cont[3]"
   ]
  },
  {
   "cell_type": "code",
   "execution_count": 12,
   "id": "81d0eb8d-c6ba-4a1b-8306-b450c8575cff",
   "metadata": {},
   "outputs": [
    {
     "data": {
      "text/plain": [
       "(3+6j)"
      ]
     },
     "execution_count": 12,
     "metadata": {},
     "output_type": "execute_result"
    }
   ],
   "source": [
    "list_cont[4]"
   ]
  },
  {
   "cell_type": "code",
   "execution_count": 13,
   "id": "8e76caa6-d2bf-46fa-bb9b-0bdbc5385939",
   "metadata": {},
   "outputs": [],
   "source": [
    "list_cont[3]= \"Ap\""
   ]
  },
  {
   "cell_type": "code",
   "execution_count": 14,
   "id": "6c267ac7-bd5d-4520-9c23-7d0fdb8ab513",
   "metadata": {},
   "outputs": [
    {
     "data": {
      "text/plain": [
       "'Ap'"
      ]
     },
     "execution_count": 14,
     "metadata": {},
     "output_type": "execute_result"
    }
   ],
   "source": [
    "list_cont[3]"
   ]
  },
  {
   "cell_type": "code",
   "execution_count": 15,
   "id": "66a26587-1b9d-43c3-b6cf-dc8872e955ad",
   "metadata": {},
   "outputs": [
    {
     "data": {
      "text/plain": [
       "3.0"
      ]
     },
     "execution_count": 15,
     "metadata": {},
     "output_type": "execute_result"
    }
   ],
   "source": [
    "list_cont[4].real"
   ]
  },
  {
   "cell_type": "code",
   "execution_count": 16,
   "id": "b1d77309-9fa3-4d28-9528-3e03ac1c2646",
   "metadata": {},
   "outputs": [
    {
     "data": {
      "text/plain": [
       "6.0"
      ]
     },
     "execution_count": 16,
     "metadata": {},
     "output_type": "execute_result"
    }
   ],
   "source": [
    "list_cont[4].imag"
   ]
  },
  {
   "cell_type": "code",
   "execution_count": null,
   "id": "cd955383-f701-4110-8e2d-fb21eeecb645",
   "metadata": {},
   "outputs": [],
   "source": []
  }
 ],
 "metadata": {
  "kernelspec": {
   "display_name": "Python 3 (ipykernel)",
   "language": "python",
   "name": "python3"
  },
  "language_info": {
   "codemirror_mode": {
    "name": "ipython",
    "version": 3
   },
   "file_extension": ".py",
   "mimetype": "text/x-python",
   "name": "python",
   "nbconvert_exporter": "python",
   "pygments_lexer": "ipython3",
   "version": "3.10.8"
  }
 },
 "nbformat": 4,
 "nbformat_minor": 5
}
